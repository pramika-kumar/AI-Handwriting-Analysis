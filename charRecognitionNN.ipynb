{
  "nbformat": 4,
  "nbformat_minor": 0,
  "metadata": {
    "kernelspec": {
      "display_name": "Python 3",
      "language": "python",
      "name": "python3"
    },
    "language_info": {
      "codemirror_mode": {
        "name": "ipython",
        "version": 3
      },
      "file_extension": ".py",
      "mimetype": "text/x-python",
      "name": "python",
      "nbconvert_exporter": "python",
      "pygments_lexer": "ipython3",
      "version": "3.7.3"
    },
    "colab": {
      "name": "charRecognitionNN.ipynb",
      "provenance": [],
      "collapsed_sections": []
    }
  },
  "cells": [
    {
      "cell_type": "code",
      "metadata": {
        "id": "paKycOVD-KRT",
        "colab_type": "code",
        "outputId": "b724a58e-1336-4b1b-8f7d-7369f27d7482",
        "colab": {
          "base_uri": "https://localhost:8080/",
          "height": 80
        }
      },
      "source": [
        " import numpy as np\n",
        "import matplotlib.pyplot as plt\n",
        "import pickle\n",
        "import cv2\n",
        "\n",
        "import tensorflow as tf\n",
        "from tensorflow.keras.models import Sequential\n",
        "from tensorflow.keras.layers import Dense, Dropout, Activation, Flatten, Conv2D, MaxPooling2D\n",
        "from keras.constraints import maxnorm\n",
        "from keras import optimizers"
      ],
      "execution_count": 0,
      "outputs": [
        {
          "output_type": "display_data",
          "data": {
            "text/html": [
              "<p style=\"color: red;\">\n",
              "The default version of TensorFlow in Colab will soon switch to TensorFlow 2.x.<br>\n",
              "We recommend you <a href=\"https://www.tensorflow.org/guide/migrate\" target=\"_blank\">upgrade</a> now \n",
              "or ensure your notebook will continue to use TensorFlow 1.x via the <code>%tensorflow_version 1.x</code> magic:\n",
              "<a href=\"https://colab.research.google.com/notebooks/tensorflow_version.ipynb\" target=\"_blank\">more info</a>.</p>\n"
            ],
            "text/plain": [
              "<IPython.core.display.HTML object>"
            ]
          },
          "metadata": {
            "tags": []
          }
        },
        {
          "output_type": "stream",
          "text": [
            "Using TensorFlow backend.\n"
          ],
          "name": "stderr"
        }
      ]
    },
    {
      "cell_type": "code",
      "metadata": {
        "id": "Dn5HafEM_p8S",
        "colab_type": "code",
        "outputId": "13090620-6e06-46a9-b44d-3b4934a21bd3",
        "colab": {
          "base_uri": "https://localhost:8080/",
          "height": 122
        }
      },
      "source": [
        "from google.colab import drive\n",
        "drive.mount('/content/drive')"
      ],
      "execution_count": 0,
      "outputs": [
        {
          "output_type": "stream",
          "text": [
            "Go to this URL in a browser: https://accounts.google.com/o/oauth2/auth?client_id=947318989803-6bn6qk8qdgf4n4g3pfee6491hc0brc4i.apps.googleusercontent.com&redirect_uri=urn%3aietf%3awg%3aoauth%3a2.0%3aoob&response_type=code&scope=email%20https%3a%2f%2fwww.googleapis.com%2fauth%2fdocs.test%20https%3a%2f%2fwww.googleapis.com%2fauth%2fdrive%20https%3a%2f%2fwww.googleapis.com%2fauth%2fdrive.photos.readonly%20https%3a%2f%2fwww.googleapis.com%2fauth%2fpeopleapi.readonly\n",
            "\n",
            "Enter your authorization code:\n",
            "··········\n",
            "Mounted at /content/drive\n"
          ],
          "name": "stdout"
        }
      ]
    },
    {
      "cell_type": "code",
      "metadata": {
        "id": "BSwfs7d--KRa",
        "colab_type": "code",
        "colab": {}
      },
      "source": [
        "#Get the image array, its label and its category\n",
        "pickle_in = open(\"/content/drive/My Drive/CSC480CharNN/X.pickle\", \"rb\")\n",
        "X = pickle.load(pickle_in)\n",
        "\n",
        "pickle_in = open(\"/content/drive/My Drive/CSC480CharNN/y.pickle\", \"rb\")\n",
        "y = pickle.load(pickle_in)\n",
        "y = np.array(y)[np.newaxis].T\n",
        "\n",
        "pickle_in = open(\"/content/drive/My Drive/CSC480CharNN/CATEGORIES.pickle\", \"rb\")\n",
        "CATEGORIES = pickle.load(pickle_in)"
      ],
      "execution_count": 0,
      "outputs": []
    },
    {
      "cell_type": "code",
      "metadata": {
        "id": "ROD8Key--KRc",
        "colab_type": "code",
        "outputId": "20ef357f-65d5-49d0-82cf-4c4ee9773b36",
        "colab": {
          "base_uri": "https://localhost:8080/",
          "height": 51
        }
      },
      "source": [
        "print (\"X.shape\", X.shape)\n",
        "print (\"y.shape\", y.shape)"
      ],
      "execution_count": 0,
      "outputs": [
        {
          "output_type": "stream",
          "text": [
            "X.shape (143115, 32, 32, 1)\n",
            "y.shape (143115, 1)\n"
          ],
          "name": "stdout"
        }
      ]
    },
    {
      "cell_type": "code",
      "metadata": {
        "id": "QXbSJ-ZF-KRg",
        "colab_type": "code",
        "outputId": "0ac65d74-04ff-41f5-edb0-ccd77f22cc8a",
        "colab": {
          "base_uri": "https://localhost:8080/",
          "height": 283
        }
      },
      "source": [
        "#Display sample image with its label\n",
        "\n",
        "plt.imshow(X[888][:,:,-1])\n",
        "plt.show()\n",
        "\n",
        "CATEGORIES[y[888][0]]"
      ],
      "execution_count": 0,
      "outputs": [
        {
          "output_type": "display_data",
          "data": {
            "image/png": "[encoded data removed]",
            "text/plain": [
              "<Figure size 432x288 with 1 Axes>"
            ]
          },
          "metadata": {
            "tags": []
          }
        },
        {
          "output_type": "execute_result",
          "data": {
            "text/plain": [
              "'K'"
            ]
          },
          "metadata": {
            "tags": []
          },
          "execution_count": 5
        }
      ]
    },
    {
      "cell_type": "code",
      "metadata": {
        "id": "dKiZfSn3-KRi",
        "colab_type": "code",
        "colab": {}
      },
      "source": [
        "#Normalize data\n",
        "X = X/255.0"
      ],
      "execution_count": 0,
      "outputs": []
    },
    {
      "cell_type": "code",
      "metadata": {
        "id": "vquodKH8-KRl",
        "colab_type": "code",
        "outputId": "75258afe-3dd7-4c40-dc5a-abb8a3bf9d1a",
        "colab": {
          "base_uri": "https://localhost:8080/",
          "height": 283
        }
      },
      "source": [
        "#Display sample image with its label - After normalizing image\n",
        "\n",
        "plt.imshow(X[888][:,:,-1])\n",
        "plt.show()\n",
        "\n",
        "CATEGORIES[y[888][0]]"
      ],
      "execution_count": 0,
      "outputs": [
        {
          "output_type": "display_data",
          "data": {
            "image/png": "[encoded data removed]",
            "text/plain": [
              "<Figure size 432x288 with 1 Axes>"
            ]
          },
          "metadata": {
            "tags": []
          }
        },
        {
          "output_type": "execute_result",
          "data": {
            "text/plain": [
              "'K'"
            ]
          },
          "metadata": {
            "tags": []
          },
          "execution_count": 7
        }
      ]
    },
    {
      "cell_type": "code",
      "metadata": {
        "id": "Pry_49DG-KRo",
        "colab_type": "code",
        "outputId": "b46b5e31-cd13-4866-b195-505f4a27cb6e",
        "colab": {
          "base_uri": "https://localhost:8080/",
          "height": 275
        }
      },
      "source": [
        "#Train Model\n",
        "\n",
        "model = Sequential()\n",
        "\n",
        "model.add(Conv2D(64, (3,3), input_shape = X.shape[1:]))\n",
        "model.add(Activation(\"relu\"))\n",
        "model.add(MaxPooling2D(pool_size=(2,2)))\n",
        "\n",
        "model.add(Conv2D(64, (3,3)))\n",
        "model.add(Activation(\"relu\"))\n",
        "model.add(MaxPooling2D(pool_size=(2,2)))\n",
        "\n",
        "model.add(Flatten())\n",
        "model.add(Dense(64))\n",
        "\n",
        "model.add(Dense(len(CATEGORIES)))\n",
        "model.add(Activation('sigmoid'))\n",
        "\n",
        "model.compile(loss=\"sparse_categorical_crossentropy\", \n",
        "             optimizer=\"adam\",\n",
        "             metrics=['accuracy'])\n",
        "\n",
        "model.fit(X, y, batch_size=512, epochs = 3, validation_split=0.1)\n"
      ],
      "execution_count": 0,
      "outputs": [
        {
          "output_type": "stream",
          "text": [
            "WARNING:tensorflow:From /usr/local/lib/python3.6/dist-packages/tensorflow_core/python/ops/resource_variable_ops.py:1630: calling BaseResourceVariable.__init__ (from tensorflow.python.ops.resource_variable_ops) with constraint is deprecated and will be removed in a future version.\n",
            "Instructions for updating:\n",
            "If using Keras pass *_constraint arguments to layers.\n",
            "WARNING:tensorflow:From /usr/local/lib/python3.6/dist-packages/tensorflow_core/python/ops/math_grad.py:1424: where (from tensorflow.python.ops.array_ops) is deprecated and will be removed in a future version.\n",
            "Instructions for updating:\n",
            "Use tf.where in 2.0, which has the same broadcast rule as np.where\n",
            "Train on 128803 samples, validate on 14312 samples\n",
            "Epoch 1/3\n",
            "128803/128803 [==============================] - 227s 2ms/sample - loss: 0.8135 - acc: 0.7644 - val_loss: 0.3619 - val_acc: 0.8893\n",
            "Epoch 2/3\n",
            "128803/128803 [==============================] - 227s 2ms/sample - loss: 0.3018 - acc: 0.9047 - val_loss: 0.2678 - val_acc: 0.9148\n",
            "Epoch 3/3\n",
            "128803/128803 [==============================] - 228s 2ms/sample - loss: 0.2425 - acc: 0.9216 - val_loss: 0.2382 - val_acc: 0.9233\n"
          ],
          "name": "stdout"
        },
        {
          "output_type": "execute_result",
          "data": {
            "text/plain": [
              "<tensorflow.python.keras.callbacks.History at 0x7fdf264c67b8>"
            ]
          },
          "metadata": {
            "tags": []
          },
          "execution_count": 8
        }
      ]
    },
    {
      "cell_type": "code",
      "metadata": {
        "id": "_E57-QeuC5Jk",
        "colab_type": "code",
        "colab": {}
      },
      "source": [
        ""
      ],
      "execution_count": 0,
      "outputs": []
    },
    {
      "cell_type": "code",
      "metadata": {
        "id": "EWDr8jCb-KRr",
        "colab_type": "code",
        "colab": {}
      },
      "source": [
        "model.save('/content/drive/My Drive/CSC480CharNN/char_reader.model')"
      ],
      "execution_count": 0,
      "outputs": []
    },
    {
      "cell_type": "code",
      "metadata": {
        "id": "_lQzHM3z-KRx",
        "colab_type": "code",
        "colab": {}
      },
      "source": [
        ""
      ],
      "execution_count": 0,
      "outputs": []
    },
    {
      "cell_type": "code",
      "metadata": {
        "id": "9zj29EUU-KR0",
        "colab_type": "code",
        "outputId": "83274156-9ce1-4206-e621-9a60a648d378",
        "colab": {
          "base_uri": "https://localhost:8080/",
          "height": 139
        }
      },
      "source": [
        "new_model = tf.keras.models.load_model('/content/drive/My Drive/CSC480CharNN/char_reader.model')"
      ],
      "execution_count": 0,
      "outputs": [
        {
          "output_type": "stream",
          "text": [
            "WARNING:tensorflow:From /usr/local/lib/python3.6/dist-packages/tensorflow_core/python/ops/init_ops.py:97: calling GlorotUniform.__init__ (from tensorflow.python.ops.init_ops) with dtype is deprecated and will be removed in a future version.\n",
            "Instructions for updating:\n",
            "Call initializer instance with the dtype argument instead of passing it to the constructor\n",
            "WARNING:tensorflow:From /usr/local/lib/python3.6/dist-packages/tensorflow_core/python/ops/init_ops.py:97: calling Zeros.__init__ (from tensorflow.python.ops.init_ops) with dtype is deprecated and will be removed in a future version.\n",
            "Instructions for updating:\n",
            "Call initializer instance with the dtype argument instead of passing it to the constructor\n"
          ],
          "name": "stdout"
        }
      ]
    },
    {
      "cell_type": "code",
      "metadata": {
        "id": "I-L3pUq9-KR2",
        "colab_type": "code",
        "colab": {}
      },
      "source": [
        "#Get an image with a single number and store it as an array\n",
        "\n",
        "import cv2\n",
        "import matplotlib.pyplot as plt\n",
        "\n",
        "IMG_PATH = \"/content/drive/My Drive/CSC480CharNN/\"\n",
        "imageName = \"letterX.png\"\n",
        "\n",
        "IMG_SIZE = 32\n",
        "image_array = []\n",
        "\n",
        "def create_image_array():\n",
        "    filepath = IMG_PATH + imageName  \n",
        "        \n",
        "    try:\n",
        "      img_array = cv2.imread(filepath, cv2.IMREAD_GRAYSCALE)\n",
        "      new_array = cv2.resize(img_array, (IMG_SIZE, IMG_SIZE))\n",
        "      image_array.append([new_array])\n",
        "    except Exception as e:\n",
        "      print(\"ERROR:\", e)\n",
        "      return(e)\n",
        "\n",
        "create_image_array()"
      ],
      "execution_count": 0,
      "outputs": []
    },
    {
      "cell_type": "code",
      "metadata": {
        "id": "BtQel4BP-KR5",
        "colab_type": "code",
        "outputId": "582e6db5-c156-49e1-ff4f-8063464f0d41",
        "colab": {
          "base_uri": "https://localhost:8080/",
          "height": 283
        }
      },
      "source": [
        "#Convert to list to numpy array\n",
        "image_array = np.array(image_array).reshape(-1, IMG_SIZE, IMG_SIZE, 1)\n",
        "\n",
        "#Invert colors to match training images\n",
        "image_array[0,:,:,-1] = np.invert(image_array[0,:,:,-1])\n",
        "\n",
        "#Normalize data\n",
        "image_array = tf.keras.utils.normalize(image_array, axis=1) \n",
        "\n",
        "print(image_array.shape)\n",
        "\n",
        "plt.imshow(image_array[0][:,:,-1]) #,cmap=plt.cm.binary\n",
        "plt.show()"
      ],
      "execution_count": 0,
      "outputs": [
        {
          "output_type": "stream",
          "text": [
            "(1, 32, 32, 1)\n"
          ],
          "name": "stdout"
        },
        {
          "output_type": "display_data",
          "data": {
            "image/png": "[encoded data removed]",
            "text/plain": [
              "<Figure size 432x288 with 1 Axes>"
            ]
          },
          "metadata": {
            "tags": []
          }
        }
      ]
    },
    {
      "cell_type": "code",
      "metadata": {
        "id": "9qtwUSzu-KR8",
        "colab_type": "code",
        "outputId": "49b2c46a-e608-4077-b2a8-9c6829064206",
        "colab": {
          "base_uri": "https://localhost:8080/",
          "height": 34
        }
      },
      "source": [
        "#Show predicted character\n",
        "\n",
        "pred = new_model.predict(image_array)\n",
        "print(CATEGORIES[np.argmax(pred[0])])"
      ],
      "execution_count": 0,
      "outputs": [
        {
          "output_type": "stream",
          "text": [
            "X\n"
          ],
          "name": "stdout"
        }
      ]
    },
    {
      "cell_type": "code",
      "metadata": {
        "id": "hGHxnFf0-KR-",
        "colab_type": "code",
        "outputId": "71b759d1-1ce1-47f6-fff2-e5d34b5a7435",
        "colab": {
          "base_uri": "https://localhost:8080/",
          "height": 102
        }
      },
      "source": [
        "#Display probability distribution\n",
        "\n",
        "percentage = []\n",
        "top5 = np.argsort(pred[0])[::-1][:5]\n",
        "for i in range(len(top5)):\n",
        "  prob = pred[0][top5[i]]\n",
        "  total = np.sum(pred[0])\n",
        "  percentage = prob/total * 100\n",
        "  print(round(percentage, 2), \"% - \", CATEGORIES[top5[i]])"
      ],
      "execution_count": 0,
      "outputs": [
        {
          "output_type": "stream",
          "text": [
            "53.08 % -  X\n",
            "21.32 % -  2\n",
            "11.93 % -  H\n",
            "5.96 % -  1\n",
            "2.4 % -  T\n"
          ],
          "name": "stdout"
        }
      ]
    },
    {
      "cell_type": "code",
      "metadata": {
        "id": "fif17TnV-KSA",
        "colab_type": "code",
        "colab": {}
      },
      "source": [
        ""
      ],
      "execution_count": 0,
      "outputs": []
    }
  ]
}