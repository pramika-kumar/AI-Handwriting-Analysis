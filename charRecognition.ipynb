{
  "nbformat": 4,
  "nbformat_minor": 0,
  "metadata": {
    "kernelspec": {
      "display_name": "Python 3",
      "language": "python",
      "name": "python3"
    },
    "language_info": {
      "codemirror_mode": {
        "name": "ipython",
        "version": 3
      },
      "file_extension": ".py",
      "mimetype": "text/x-python",
      "name": "python",
      "nbconvert_exporter": "python",
      "pygments_lexer": "ipython3",
      "version": "3.7.3"
    },
    "colab": {
      "name": "charRecognition.ipynb",
      "provenance": []
    }
  },
  "cells": [
    {
      "cell_type": "code",
      "metadata": {
        "id": "BOXNXRkISkmy",
        "colab_type": "code",
        "colab": {}
      },
      "source": [
        "import numpy as np\n",
        "import matplotlib.pyplot as plt\n",
        "import os\n",
        "import cv2\n",
        "from tqdm import tqdm\n",
        "import random\n",
        "import pickle"
      ],
      "execution_count": 0,
      "outputs": []
    },
    {
      "cell_type": "code",
      "metadata": {
        "id": "MU65FxnZSkm9",
        "colab_type": "code",
        "colab": {}
      },
      "source": [
        "DATADIR = \"/Volumes/Lexar/handwrittenCharacters\"\n",
        "\n",
        "CATEGORIES = [\"1\", \"2\", \"3\", \"4\", \"5\", \"6\", \"7\", \"8\", \"9\",\n",
        "              \"A\", \"B\", \"C\", \"D\", \"E\", \"F\", \"G\", \"H\", \"I\",\n",
        "              \"J\", \"K\", \"L\", \"M\", \"N\", \"O\", \"P\", \"Q\", \"R\",\n",
        "              \"S\", \"T\", \"U\", \"V\", \"W\", \"X\", \"Y\", \"Z\"]"
      ],
      "execution_count": 0,
      "outputs": []
    },
    {
      "cell_type": "code",
      "metadata": {
        "id": "4DjOlq5fSknC",
        "colab_type": "code",
        "colab": {}
      },
      "source": [
        "IMG_SIZE = 32"
      ],
      "execution_count": 0,
      "outputs": []
    },
    {
      "cell_type": "code",
      "metadata": {
        "id": "QHk5iq90SknG",
        "colab_type": "code",
        "outputId": "f652617e-94d7-451d-9c5f-012867c8f67c",
        "colab": {}
      },
      "source": [
        "#Go through all of the images and save as an array\n",
        "\n",
        "training_data = []\n",
        "\n",
        "def create_training_data():\n",
        "    for category in CATEGORIES: \n",
        "\n",
        "        \n",
        "        path = os.path.join(DATADIR,category)  # create path to dogs and cats\n",
        "        class_num = CATEGORIES.index(category)  # get the classification  \n",
        "\n",
        "        \n",
        "        image_name_array = os.listdir(path)[:4240]\n",
        "        \n",
        "        \n",
        "        for img in tqdm(range(4240)):  # iterate over each image per dogs and cats\n",
        "            try:\n",
        "                img_array = cv2.imread(os.path.join(path,image_name_array[img]) ,cv2.IMREAD_GRAYSCALE)                 \n",
        "                new_array = cv2.resize(img_array, (IMG_SIZE, IMG_SIZE))  # resize to normalize data size\n",
        "                training_data.append([new_array, class_num])  # add this to our training_data\n",
        "            except Exception as e:  \n",
        "                print(\"Error \", e)\n",
        "                pass\n",
        "            \n",
        "\n",
        "create_training_data()"
      ],
      "execution_count": 0,
      "outputs": [
        {
          "output_type": "stream",
          "text": [
            "100%|██████████| 4240/4240 [00:04<00:00, 920.11it/s]\n",
            "100%|██████████| 4240/4240 [00:04<00:00, 867.40it/s] \n",
            "100%|██████████| 4240/4240 [00:04<00:00, 882.90it/s]\n",
            "100%|██████████| 4240/4240 [00:04<00:00, 892.96it/s] \n",
            "100%|██████████| 4240/4240 [00:04<00:00, 910.15it/s] \n",
            "100%|██████████| 4240/4240 [00:04<00:00, 856.18it/s]\n",
            "100%|██████████| 4240/4240 [00:04<00:00, 920.42it/s] \n",
            "100%|██████████| 4240/4240 [00:04<00:00, 961.04it/s] \n",
            "100%|██████████| 4240/4240 [00:04<00:00, 889.54it/s] \n",
            "100%|██████████| 4240/4240 [00:04<00:00, 867.30it/s]\n",
            "100%|██████████| 4240/4240 [00:05<00:00, 768.42it/s] \n",
            "100%|██████████| 4240/4240 [00:05<00:00, 826.60it/s]\n",
            "100%|██████████| 4240/4240 [00:04<00:00, 894.45it/s] \n",
            "100%|██████████| 4240/4240 [00:05<00:00, 761.12it/s]\n",
            "100%|██████████| 4240/4240 [00:04<00:00, 906.39it/s]\n",
            "100%|██████████| 4240/4240 [00:05<00:00, 732.98it/s]\n",
            "100%|██████████| 4240/4240 [00:04<00:00, 880.43it/s]\n",
            "100%|██████████| 4240/4240 [00:05<00:00, 730.72it/s]\n",
            "100%|██████████| 4240/4240 [00:05<00:00, 712.20it/s]\n",
            "100%|██████████| 4240/4240 [00:05<00:00, 833.32it/s]\n",
            "100%|██████████| 4240/4240 [00:05<00:00, 733.65it/s]\n",
            "100%|██████████| 4240/4240 [00:06<00:00, 701.56it/s]\n",
            "100%|██████████| 4240/4240 [00:04<00:00, 891.06it/s]\n",
            "100%|██████████| 4240/4240 [00:04<00:00, 940.82it/s] \n",
            "100%|██████████| 4240/4240 [00:04<00:00, 966.68it/s] \n",
            "100%|██████████| 4240/4240 [00:04<00:00, 1007.71it/s]\n",
            "100%|██████████| 4240/4240 [00:04<00:00, 887.54it/s]\n",
            "100%|██████████| 4240/4240 [00:04<00:00, 925.91it/s]\n",
            "100%|██████████| 4240/4240 [00:04<00:00, 951.66it/s] \n",
            "100%|██████████| 4240/4240 [00:04<00:00, 887.64it/s] \n",
            "100%|██████████| 4240/4240 [00:04<00:00, 1020.77it/s]\n",
            "100%|██████████| 4240/4240 [00:04<00:00, 1011.97it/s]\n",
            "100%|██████████| 4240/4240 [00:05<00:00, 846.29it/s] \n",
            "100%|██████████| 4240/4240 [00:04<00:00, 897.54it/s]\n",
            "100%|██████████| 4240/4240 [00:06<00:00, 632.06it/s]\n"
          ],
          "name": "stderr"
        }
      ]
    },
    {
      "cell_type": "code",
      "metadata": {
        "id": "gXl-mSE-SknO",
        "colab_type": "code",
        "outputId": "eeebe1f2-5160-4c28-87fa-4fd5244726f7",
        "colab": {}
      },
      "source": [
        "print(len(training_data))\n"
      ],
      "execution_count": 0,
      "outputs": [
        {
          "output_type": "stream",
          "text": [
            "148400\n"
          ],
          "name": "stdout"
        }
      ]
    },
    {
      "cell_type": "code",
      "metadata": {
        "id": "_KXYzfQaSknS",
        "colab_type": "code",
        "colab": {}
      },
      "source": [
        "#Shuffle data\n",
        "\n",
        "random.shuffle(training_data)"
      ],
      "execution_count": 0,
      "outputs": []
    },
    {
      "cell_type": "code",
      "metadata": {
        "id": "mnmtB2xvSknW",
        "colab_type": "code",
        "outputId": "ec8698d9-53ab-4b5b-84a9-9ecb8622fae7",
        "colab": {}
      },
      "source": [
        "#Display shuffled data\n",
        "\n",
        "for sample in training_data[:10]:\n",
        "    print(sample[1])"
      ],
      "execution_count": 0,
      "outputs": [
        {
          "output_type": "stream",
          "text": [
            "7\n",
            "10\n",
            "29\n",
            "24\n",
            "23\n",
            "0\n",
            "14\n",
            "17\n",
            "25\n",
            "4\n"
          ],
          "name": "stdout"
        }
      ]
    },
    {
      "cell_type": "code",
      "metadata": {
        "id": "Z78dX3CTSknf",
        "colab_type": "code",
        "colab": {}
      },
      "source": [
        "#Get training data, image and label\n",
        "\n",
        "X = []\n",
        "y = []\n",
        "\n",
        "for features,label in training_data:\n",
        "    X.append(features)\n",
        "    y.append(label)\n",
        "\n",
        "\n",
        "X = np.array(X).reshape(-1, IMG_SIZE, IMG_SIZE, 1)"
      ],
      "execution_count": 0,
      "outputs": []
    },
    {
      "cell_type": "code",
      "metadata": {
        "id": "wTcHH85cSknj",
        "colab_type": "code",
        "outputId": "bb422817-b3eb-4ded-afd0-9d80da320c44",
        "colab": {}
      },
      "source": [
        "X.shape"
      ],
      "execution_count": 0,
      "outputs": [
        {
          "output_type": "execute_result",
          "data": {
            "text/plain": [
              "(148400, 32, 32, 1)"
            ]
          },
          "metadata": {
            "tags": []
          },
          "execution_count": 53
        }
      ]
    },
    {
      "cell_type": "code",
      "metadata": {
        "id": "wUJkKMDPSkno",
        "colab_type": "code",
        "colab": {}
      },
      "source": [
        "#Save image array and label in picke file\n",
        "\n",
        "pickle_out = open(\"X.pickle\",\"wb\")\n",
        "pickle.dump(X, pickle_out)\n",
        "pickle_out.close()\n",
        "\n",
        "pickle_out = open(\"y.pickle\",\"wb\")\n",
        "pickle.dump(y, pickle_out)\n",
        "pickle_out.close()"
      ],
      "execution_count": 0,
      "outputs": []
    },
    {
      "cell_type": "code",
      "metadata": {
        "id": "ZkxDC1KZSkns",
        "colab_type": "code",
        "colab": {}
      },
      "source": [
        "#Save Category in picke file\n",
        "\n",
        "pickle_out = open(\"CATEGORIES.pickle\",\"wb\")\n",
        "pickle.dump(CATEGORIES, pickle_out)\n",
        "pickle_out.close()"
      ],
      "execution_count": 0,
      "outputs": []
    },
    {
      "cell_type": "code",
      "metadata": {
        "id": "QSwYLnjTSknx",
        "colab_type": "code",
        "colab": {}
      },
      "source": [
        ""
      ],
      "execution_count": 0,
      "outputs": []
    }
  ]
}